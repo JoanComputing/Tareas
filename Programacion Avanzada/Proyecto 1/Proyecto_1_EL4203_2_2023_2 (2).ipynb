{
  "cells": [
    {
      "attachments": {},
      "cell_type": "markdown",
      "metadata": {
        "id": "jPEMbBo1ySwz"
      },
      "source": [
        "<img height=\"200\" src=\"https://raw.githubusercontent.com/mmattamala/LogosFCFM/master/Ingenier%C3%ADa%20El%C3%A9ctrica/fcfm_die_png.png\">\n",
        "\n",
        "\n",
        "# **Enunciado Proyecto 1**\n",
        "# EL4203-2 Programación Avanzada - Primavera 2023\n",
        "---\n",
        "**Integrantes**: Juan Vergara\n",
        "\n",
        "**Grupo**:\n",
        "\n",
        "**Profesor**: Jorge Sandoval\n",
        "\n",
        "**Auxiliares**: Agustín González y Diego Torreblanca"
      ]
    },
    {
      "attachments": {},
      "cell_type": "markdown",
      "metadata": {
        "id": "vaUlXjZRyiSw"
      },
      "source": [
        "# Instrucciones Generales"
      ]
    },
    {
      "attachments": {},
      "cell_type": "markdown",
      "metadata": {
        "id": "R0y9wHwyytmg"
      },
      "source": [
        "Este proyecto aborda el manejo de pilas, colas, clases y buenas prácticas de programación, para ello deben desarrollar un problema y responder preguntas relacionadas a sus resultados. Este proyecto está designado para ser realizado en pareja (se aceptará solamanente un grupo de 3) y cada grupo se debe inscribir en el link a continuación:\n",
        "\n",
        "Link de inscripción: https://docs.google.com/spreadsheets/d/1t892ZBmRigamV45WN0fPA4inhsZ0jAmvL85g4RP8vyc/edit?usp=sharing\n",
        "\n",
        "El proyecto debe ser respondido en los recuadros asignados y ante cualquier duda, comunicarse con el equipo docente en clase o a través del foro de U-Cursos.\n",
        "\n",
        "Algunas clases y funciones tienen un _input_ de ejemplo, pero al momento de revisar se probará que el código funcione con cualquier _input_ que sea válido, por lo que su código debe ser lo más genérico posible.\n",
        "\n",
        "> **Ejemplo:** si se pide que realice una función que transforme los caracteres de un string a mayúscula, se dará como ejemplo el string `strIng de EjemplO`, pero se revisará además con el string `strING de PRUEBA`.\n",
        "\n",
        "Además, debe seguir las buenas prácticas de programación al implementar <font color=\"red\">todas</font> las funciones, clases y métodos.\n",
        "\n",
        "Se aconseja hacer una copia de este archivo en **Archivo >> Guardar un copia en Drive** y trabajar haciendo uso de colab, pero también puede trabajar en su ambiente local si así lo desea. La entrega debe ser en un archivo `.ipynb` que pueda ser ejecutado en colab, **no se aceptarán links**.\n",
        "\n",
        "#### **Datos que podrían interesarles:**\n",
        "\n",
        "Para poder trabajar en grupo se aconseja repartir las tareas de manera equitativa y juntar el código después, ya que puede ocurrir que si editan el mismo archivo en colab alguno de los cambios no se guarde o se corrompa. Si desea hacer su propio \"colab privado\" (código colaborativo usando los recursos de su computador) podría interesarles el siguiente link [VS Code Live Share](https://code.visualstudio.com/learn/collaboration/live-share)."
      ]
    },
    {
      "attachments": {},
      "cell_type": "markdown",
      "metadata": {
        "id": "uvYMMiMj0xDS"
      },
      "source": [
        "## Buenas prácticas de programación"
      ]
    },
    {
      "attachments": {},
      "cell_type": "markdown",
      "metadata": {
        "id": "q73CBlZy03Zd"
      },
      "source": [
        "No existe una guía absoluta de buenas prácticas de programación, si no que depende de múltiples factores como lenguaje de programación, software utilizado para crear la documentación (e.j. [doxygen](https://www.doxygen.nl/) y [sphinx](https://www.sphinx-doc.org/en/master/index.html)) y preferencias personales/del grupo de trabajo.\n",
        "\n",
        "Aún así, quienes desarrollan Python tienen una [\"Propuesta de Mejoras a Python\"](https://peps.python.org/) (PEP por sus siglas en inglés) donde se habla entre varias cosas de buenas prácticas al momento de programar en Python, siendo estas *propuestas* y no *reglas*. Aún así, se les solicitará que apliquen las siguientes buenas prácticas por el resto del semestre:\n",
        "\n",
        "- **PEP 484 - Type Hinting ([🔗](https://peps.python.org/pep-0484/)):** cuando definan funciones o métodos deben indicar, usando la clase correspondiente, el tipo de los argumentos y el tipo del valor que devuelve, en caso que no devuelva un valor deben indicar que devuelve `None`.\n",
        "\n",
        "   En el caso de que el argumento o salida pueda ser de más de un tipo de dato, se deben usar las clases definidas dentro del módulo estándar `typing`, pudiéndose crear \"uniones\" de datos y explicitar el tipo de dato dentro de un arreglo ([documentación del módulo](https://docs.python.org/3/library/typing.html)).\n",
        "\n",
        "\n",
        "```python\n",
        "    # En el caso de una clase que recibe y entrega un string\n",
        "    def greeting(name: str) -> str:\n",
        "        return 'Hello ' + name\n",
        "\n",
        "    # En el caso de una clase que recibe un string y no devuelve nada\n",
        "    def greet_in_console(name: str) -> None:\n",
        "        print(f\"Hello {name}\")\n",
        "        return\n",
        "```\n",
        "\n",
        "- **PEP 257 - Docstrings ([🔗](https://peps.python.org/pep-0257/)):** es información sobre la función que va (en Python) debajo de la definición de esta, este texto se ubica entre triple comillas (`\"\"\"` o `'''`) e indica que hace la función, que entrega y da una idea sobre el significado de los argumentos de ser apropiado. Existen \"docstrings\" de una línea y de múltiples líneas, en el caso de este curso se pedirán siempre \"docstrings\" de una línea a menos que se indique lo contrario. Estos deben resumir lo mejor posible la función, y **no** deben indicar el tipo de dato de los argumentos.\n",
        "\n",
        "\n",
        "\n",
        "```python\n",
        "    # Ejemplo de un \"docstring\" de una sola línea\n",
        "    def kos_root() -> str:\n",
        "        \"\"\"Return the pathname of the KOS root directory.\"\"\"\n",
        "        global _kos_root\n",
        "        if _kos_root: return _kos_root\n",
        "        ...\n",
        "```\n",
        "\n",
        "- **PEP 8 - Guía de estilo ([🔗](https://peps.python.org/pep-0008/))**: en este PEP se indican múltiples recomendaciones a seguir, pero para el curso las siguientes serán relevantes:\n",
        "\n",
        "    - Las variables que sean constantes (que no serán reasignadas en ningún momento) deben ir completamente en mayúsculas, y de estar compuesta de más una palabra, las palabras deben unirse por un guión bajo. Ejemplo: `PI`, `NUMERO_DE_EULER`.\n",
        "\n",
        "    - El nombre de las funciones y variables debe ser completamente en minúscula, y las palabras deben estar separadas por guiones bajos. Ejemplo: `calcular_distancia(a: set, b: set)` y `voltaje_de_fase`.\n"
      ]
    },
    {
      "attachments": {},
      "cell_type": "markdown",
      "metadata": {
        "id": "AdLecsu_1vUS"
      },
      "source": [
        "# Instrucciones Específicas"
      ]
    },
    {
      "attachments": {},
      "cell_type": "markdown",
      "metadata": {
        "id": "K17jn_Cw1zYn"
      },
      "source": [
        "**Objetivo**:\n",
        "Implementar Colas y Pilas, identificar y analizar diferencias al programar el sistema con `numpy`.\n",
        "\n",
        "**Contexto**:\n",
        "\n",
        "Por cosas de la vida el sistema de recepción de solicitudes estudiantiles del CAD de la Universidad, fue hackeado por un grupo anónimo con las perversas intenciones de evitar que las y los estudiantes puedan hacer sus solicitudes al Comité. Es por eso, que con un sentimiento enorme de ayudar al resto, ustedes se han decidido a implementar una versión simplificada del sistema de recepción de solicitudes. Naturalmente, tienen toda la aprobación y el apoyo del Comité de Administración Docente y del equipo técnico de U-Campus, por lo que les facilitaron todos los permisos para manipular usuarios y bases de datos.\n"
      ]
    },
    {
      "attachments": {},
      "cell_type": "markdown",
      "metadata": {
        "id": "RrykqbP5Gxuo"
      },
      "source": [
        "## Implementación"
      ]
    },
    {
      "attachments": {},
      "cell_type": "markdown",
      "metadata": {
        "id": "zOFdoW8MG13G"
      },
      "source": [
        "A continuación, se presenta un diagrama de flujo del programa que deben implementar:\n",
        "\n",
        "<img src=\"https://drive.google.com/uc?export=view&id=1r_I1G3I1jLcrc6-HymaUCOCSgsCOTOQj\" alt=\"Diagrama de Flujo\" height=600>\n",
        "\n",
        "En las secciones siguientes, se encuentran todas las celdas listas para que ustedes las editen con las funciones, métodos y clases solicitadas. Luego, en la sección de Funciones Principales, se encuentra el código para ejecutar todo el programa. Esto les servirá para entender mejor el flujo del código y verificar la funcionalidad de su programa.\n",
        "\n",
        "**Las clases a definir para elaborar el programa son las siguientes:**\n",
        "\n",
        "- **User**, que representa a los usuarios que envían solicitudes.\n",
        "- **SpecialUser**, que representa al encargado de resolver las solicitudes del CAD.\n",
        "- **BaseDeDatos**, que representa la base de datos que contiene todos los User y además tiene un buzón de mensajes.\n",
        "- **Pila** (sin usar `numpy`) y **PilaNumpy** (usando `numpy`), que servirá para programar el buzón.\n",
        "- **PilaPrioridad** (sin usar `numpy`) y **PilaPrioridadNumpy** (usando `numpy`), que servirá para programar la Cola de Prioridad.\n",
        "\n",
        "Los mensajes que se envían durante todo el programa (Solicitudes y Respuestas), se envían como **diccionarios**.\n",
        "\n",
        "La prioridad más alta es el 3, mientras que la prioridad más baja es la 1.\n",
        "\n",
        "**Funciones y atributos a implementar por clase:**\n",
        "\n",
        "Si es que determina adecuado implementar algún metodo extra que no se encuentre dentro de los pedidos, puede hacerlo.\n",
        "\n",
        "La siguiente lista contiene todos los atributos y métodos que deben tener las clases:\n",
        "\n",
        "- **User**:\n",
        "  - Atributos: `name (str)`, `priority (int)` y  `msg (str)`, las cuales representas el nombre, la prioridad y el mensaje, respectivamente, del estudiante.\n",
        "  - `recibir_mensaje()`, la cual recibe un mensaje. Si el CAD respondió mal, mantiene el mensaje para volverlo a enviar después. Si respondió bien, cambia el mensaje a `None`.\n",
        "  - `crear_mensaje()`, la cual crea el mensaje a enviar como diccionario, si no hay mensaje, retorna `None`. Llaves del `dict`: nombre, mensaje, importancia en la cola de prioridad.\n",
        "<br>\n",
        "<br>\n",
        "- **SpecialUser**:\n",
        "  - Atributos: `name (str)`\n",
        "  - `responder_mensaje()`, la cual dado un mensaje, responde el mensaje utilizando la función `__procesar_mensaje()`, la cual ya viene programada. Responde el mensaje significa entregar un `dict` con el nombre del estudiante y el mensaje generado por el CAD.\n",
        "<br>\n",
        "<br>\n",
        "- **Pila y PilaNumpy**:\n",
        "  - Atributos: implementar los atributos como se vio en Cátedra, dependiendo de su implementación (con o sin `numpy`).\n",
        "  - `push()` y `pop()` como se vio en Cátedra, dependiendo de su implementación (con o sin `numpy`).\n",
        "  - `encontrar_por_llave()`, la cual busca en la pila según una llave o valor dado, se aconseja que el argumento pueda ser una función lambda similar a como lo usa \"filter\".\n",
        "<br>\n",
        "<br>\n",
        "- **PilaPrioridad y PilaPrioridadNumpy**:\n",
        "  - Atributos: implementar los atributos como se vio en Cátedra, dependiendo de su implementación (con o sin `numpy`).\n",
        "  - `__iter__()` y `__next__()`, que permita iterar sobre todos los mensajes enviados, siguiendo el orden de prioridad.\n",
        "  - `push()` y `pop()` como se vio en Cátedra, dependiendo de su implementación (con o sin `numpy`). Además, debe funcionar como Cola de Prioridad, es decir, los mensajes se van almacenando y sacando según su prioridad. Al método `push()` se le debe dar el diccionario entregado por el usuario, eliminarle la llave de prioridad y usar el valor de prioridad para seleccionar donde debe ir el mensaje.\n",
        "<br>\n",
        "<br>\n",
        "- **BaseDeDatos:**\n",
        "  - Atributos: `users (Pila o PilaNumpy)`, el cual almacena todos los usuarios y `buzon (Pila o PilaNumpy)`, el cual almacena las respuestas del SpecialUser.\n",
        "  - `__iter__()` y `__next__()`, que permita iterar sobre los usuarios, entregando un diccionario si el mensaje no es `None`.\n",
        "  - `push()` y `pop()` como se vio en Cátedra, dependiendo de su implementación (con o sin `numpy`). Además, debe funcionar como Cola de Prioridad, es decir, los mensajes se van almacenando y sacando según su prioridad.\n",
        "  - `mensaje_a_buzon()`, la cual dado un mensaje lo agrega al buzón de mensajes recibidos.\n",
        "  - `load()`, la cual carga a los usuarios desde una lista con diccionarios y transforma cada `dict` en un usuario y llena la pila `users` con estos diccionarios.\n",
        "  - `procesar_mensajes()`, la cual entrega los mensajes a los usuarios, quienes lo reciben con `user.recibir_mensaje()`.\n",
        "  - `tiene_mensajes()`, la cual verifica que exista al menos un usuario que desee enviar un mensaje, es decir, que ese mensaje sea distinto de `None`.\n",
        "\n",
        "**Funciones principales:**\n",
        "\n",
        "Esta última sección presenta dos bloques principales. El primero contiene la función `main()`, que permite ejecutar todo el programa con las clases y funciones realizadas por ustedes. El segundo, posee una pequeña sección de **Comparación de eficiencia**, en donde **deben programar** un pequeño código usando **timeit** para comparar los tiempos de ejecución del programa al utilizar o no `numpy`.\n"
      ]
    },
    {
      "attachments": {},
      "cell_type": "markdown",
      "metadata": {
        "id": "FRY422PK4cav"
      },
      "source": [
        "### Descarga de datos e importación de librerías\n",
        "\n",
        "Se descargan los datos de los usuarios, guardando una lista con diccionarios donde cada diccionario tiene las llaves \"nombre\", \"importancia\" y \"mensaje\". La importancia de un usuario es un valor entero entre 1 y 3 inclusivos.\n"
      ]
    },
    {
      "cell_type": "code",
      "execution_count": 170,
      "metadata": {
        "colab": {
          "base_uri": "https://localhost:8080/"
        },
        "id": "9HvxaOFWY_3o",
        "outputId": "a3b1566f-e3d7-4f23-cd9c-2bdd9f43c249"
      },
      "outputs": [
        {
          "name": "stdout",
          "output_type": "stream",
          "text": [
            "Usuarios cargados!\n",
            "La cantidad de usuarios es 66\n",
            "Entrada 0 de la lista: {'nombre': 'Santiago Martínez', 'prioridad': 1, 'mensaje': '¿Dónde puedo obtener una copia de mi transcripción de notas?'}\n"
          ]
        }
      ],
      "source": [
        "import numpy as np\n",
        "import json\n",
        "import sys\n",
        "\n",
        "dicts_of_users = None\n",
        "if 'google.colab' in sys.modules:\n",
        "    !gdown 1JNfiVHok3cmD8ZsCX_MBYj7ATGu0cp15 -O \"users.json\"\n",
        "\n",
        "    data = open(\"/content/users.json\", \"r\")\n",
        "    dicts_of_users = json.load(data)\n",
        "    data.close()\n",
        "\n",
        "else:\n",
        "    import urllib.request\n",
        "    url = 'https://drive.usercontent.google.com/download?id=1JNfiVHok3cmD8ZsCX_MBYj7ATGu0cp15&export=download'\n",
        "    file_name = 'users.json'\n",
        "\n",
        "    # Download the file from `url`\n",
        "    with urllib.request.urlopen(url) as response:\n",
        "        data = response.read() # a `bytes` object\n",
        "        data = data.decode()\n",
        "        dicts_of_users = json.loads(data)\n",
        "\n",
        "print(\"Usuarios cargados!\" if dicts_of_users is not None else \"Error descargando usuarios.\")\n",
        "print(f\"La cantidad de usuarios es {len(dicts_of_users)}\")\n",
        "print(f\"Entrada 0 de la lista: {dicts_of_users[0]}\")"
      ]
    },
    {
      "attachments": {},
      "cell_type": "markdown",
      "metadata": {
        "id": "F28EilJ75MAH"
      },
      "source": [
        "### Clases a definir\n",
        "\n",
        "Los métodos se encuentran incompletos y no siguen buenas prácticas, por lo que manipulelos según sea necesario.\n",
        "\n",
        "Casi todos los métodos tienen un mensaje como comentario encima, estos dan una idea general de lo que deben realizar. Una descripción más detallada de lo que deben hacer se encuentra al inicio de este colab."
      ]
    },
    {
      "attachments": {},
      "cell_type": "markdown",
      "metadata": {
        "id": "F906l_W05RtG"
      },
      "source": [
        "#### Clase User y SpecialUSer"
      ]
    },
    {
      "cell_type": "code",
      "execution_count": 171,
      "metadata": {
        "id": "GGx257f2Y_3q"
      },
      "outputs": [],
      "source": [
        "from typing import Union,Optional\n",
        "class User:\n",
        "    \"\"\"\n",
        "    Clase que representa a un usuario que envia solicitudes del CAD.\n",
        "    Atributos:\n",
        "        name (str): Nombre del usuario\n",
        "        priority (int): Prioridad del usuario en la cola de prioridad\n",
        "        message (str): Mensaje que envía el usuario\n",
        "    \"\"\"\n",
        "    def __init__(self, name:str, priority:int, message:str=None):\n",
        "        \"\"\"\n",
        "        Constructor de la clase User.\n",
        "        \"\"\"\n",
        "        self.name = name\n",
        "        self.priority = priority\n",
        "        self.message = message\n",
        "\n",
        "    def recibir_mensaje(self, mensaje:str) -> Optional[str]:\n",
        "        \"\"\"\n",
        "        Recibe un mensaje, si el CAD respondió mal, mantiene el mensaje para enviar\n",
        "        después. Si respondió bien, borra su mensaje (lo cambia a None).\n",
        "        \"\"\"\n",
        "        if mensaje ==  \"No entendí la pregunta, envíela denuevo\":\n",
        "            self.message = self.message\n",
        "        if mensaje == \"Esto es una respuesta válida\":\n",
        "            self.message = None\n",
        "\n",
        "    def crear_mensaje(self)-> Optional[dict]:\n",
        "        \"\"\"\n",
        "        Crea el mensaje a enviar como diccionario, si no hay mensaje, retorna None\n",
        "        Llaves: nombre, mensaje, importancia en la cola de prioridad\n",
        "        \"\"\"\n",
        "        if self.message is None:\n",
        "            return None\n",
        "        else:\n",
        "            return {\"nombre\": self.name, \"mensaje\": self.message, \"prioridad\": self.priority}\n"
      ]
    },
    {
      "cell_type": "code",
      "execution_count": 172,
      "metadata": {
        "id": "kaTgpcbZ5cio"
      },
      "outputs": [],
      "source": [
        "class SpecialUSer:\n",
        "    \"\"\"\n",
        "    Clase que representa al encargado de responder las solicitudes del CAD.\n",
        "    Atributos:\n",
        "        name (str): Nombre del usuario\n",
        "    \"\"\"\n",
        "\n",
        "    def __init__(self, name:str):\n",
        "        self.name = name\n",
        "\n",
        "    def responder_mensaje(self, mensaje:dict) -> dict:\n",
        "        \"\"\"\n",
        "        Recibe un mensaje del usuario y lo responde con __procesar_mensaje()\n",
        "        \"\"\"\n",
        "        respuesta=self.__procesar_mensaje(mensaje.get(\"mensaje\"))\n",
        "        return {\"nombre\": mensaje.get(\"nombre\"), \"mensaje\": respuesta}\n",
        "\n",
        "\n",
        "    def __procesar_mensaje(self, mensaje: str) -> str:  # No borrar este método\n",
        "        \"\"\"Dado un mensaje lo procesa y entrega una respuesta.\n",
        "\n",
        "        Las respuestas posibles son:\n",
        "        - \"No entendí la pregunta, envíela denuevo\"\n",
        "        - \"Esto es una respuesta válida\"\n",
        "\n",
        "        La primera es una respuesta \"mala\" y la segunda una respuesta \"buena\"\n",
        "\n",
        "        Parámetros\n",
        "        ----------\n",
        "        mensaje: mensaje a responder\n",
        "        \"\"\"\n",
        "\n",
        "        val = int.from_bytes(mensaje.encode(), \"little\")\n",
        "        gen = np.random.default_rng(seed=val)\n",
        "\n",
        "        if np.random.rand() > gen.random() * 0.8:\n",
        "            # \"Respuesta mala\"\n",
        "            return \"No entendí la pregunta, envíela denuevo\"\n",
        "        else:\n",
        "            # \"Respuesta buena\"\n",
        "            return \"Esto es una respuesta válida\""
      ]
    },
    {
      "attachments": {},
      "cell_type": "markdown",
      "metadata": {
        "id": "FeIu_GMK5lmA"
      },
      "source": [
        "#### Clase Pila y PilaPrioridad usando listas"
      ]
    },
    {
      "cell_type": "code",
      "execution_count": 173,
      "metadata": {
        "id": "pNDnoeSs5ko3"
      },
      "outputs": [],
      "source": [
        "class Pila:\n",
        "    \"\"\"\n",
        "    Clase que representa una pila.\n",
        "    Esta sera la encargada de representar a los usuarios que envían solicitudes\n",
        "    y al buzon de mensajes del CAD.\n",
        "    Atributos:\n",
        "        items (list): Lista que representa la pila\n",
        "    \"\"\"\n",
        "    def __init__(self):\n",
        "        self.items = []\n",
        "    def __iter__(self):\n",
        "        return iter(self.items)\n",
        "    def push(self, item:Union[User,dict])->None:\n",
        "        \"\"\"\n",
        "        Ingresa un item a la pila.\n",
        "        \"\"\"\n",
        "        self.items.append(item)\n",
        "\n",
        "    def is_empty(self)->bool:\n",
        "        \"\"\"\n",
        "        Retorna True si la pila esta vacia, False si no.\n",
        "        \"\"\"\n",
        "        return len(self.items) == 0\n",
        "\n",
        "    def pop(self)->Union[User,dict]:\n",
        "        \"\"\"\n",
        "        Retorna el ultimo item ingresado a la pila.\n",
        "        \"\"\"\n",
        "        if not self.is_empty():\n",
        "            return self.items.pop()\n",
        "\n",
        "    def encontrar_por_llave(self, llave:callable)->list:\n",
        "        \"\"\"\n",
        "        Busca en la Pila segun una llave o valor dado.\n",
        "        \"\"\"\n",
        "        return list(filter(llave, self.items))\n",
        "\n",
        "\n",
        "class PilaPrioridad:\n",
        "    \"\"\"\n",
        "    Clase que representa una pila con prioridad.\n",
        "    Esta sera la encargada de la cola de \n",
        "    prioridad de responder mensajes.\n",
        "    Atributos:\n",
        "        items (list): Lista que representa la pila\n",
        "    \"\"\"\n",
        "    def __init__(self):\n",
        "        self.items = []\n",
        "\n",
        "    def __iter__(self):\n",
        "        return iter(self.items)\n",
        "\n",
        "    def __next__(self):\n",
        "        if self.is_empty():\n",
        "            raise StopIteration\n",
        "        return self.pop()\n",
        "\n",
        "    def is_empty(self)->bool:\n",
        "        \"\"\"\n",
        "        Retorna True si la pila esta vacia, False si no.\n",
        "        \"\"\"\n",
        "        return len(self.items) == 0\n",
        "\n",
        "    def push(self, mensaje:dict)->None:\n",
        "        \"\"\"\n",
        "         Se implementa la inserción en la pila según la prioridad del mensaje\n",
        "         El mensaje debe ser un diccionario con una clave \"prioridad\"\n",
        "        \"\"\"\n",
        "        if mensaje is None:\n",
        "            pass\n",
        "        else:\n",
        "            prioridad = mensaje.pop(\"prioridad\")  # Prioridad por defecto si no se especifica\n",
        "            if prioridad == 3:\n",
        "                self.items.insert(0,mensaje)\n",
        "            elif prioridad == 2:\n",
        "                i = 0  # Variable para recorrer la lista\n",
        "                while i < len(self.items) and 'prioridad' in self.items[i] and self.items[i]['prioridad'] == 3:\n",
        "                    i += 1  # Saltar mensajes de prioridad más alta\n",
        "                self.items.insert(i, mensaje)  # Insertar el mensaje en la posición adecuada\n",
        "            else:\n",
        "                self.items.append(mensaje)\n",
        "\n",
        "    def pop(self)->dict:\n",
        "        \"\"\"\n",
        "        Retorna el ultimo item ingresado a la pila.\n",
        "        \"\"\"\n",
        "        if not self.is_empty():\n",
        "            return self.items.pop()"
      ]
    },
    {
      "attachments": {},
      "cell_type": "markdown",
      "metadata": {
        "id": "vCH5RX8f9FAn"
      },
      "source": [
        "#### Clase Pila y PilaPrioridad usando arreglos de numpy"
      ]
    },
    {
      "cell_type": "code",
      "execution_count": 174,
      "metadata": {
        "id": "vrmSTckc9FAw"
      },
      "outputs": [],
      "source": [
        "class PilaNumpy:\n",
        "    \"\"\"\n",
        "    Clase que representa una pila pero usando numpy.\n",
        "    Esta sera la encargada de representar a los usuarios que envían solicitudes\n",
        "    y al buzon de mensajes del CAD.\n",
        "    Atributos:\n",
        "        items (np.array): Lista que representa la pila\n",
        "    \"\"\"\n",
        "    def __init__(self):\n",
        "        self.items = np.array([],dtype=dict)\n",
        "    def __iter__(self):\n",
        "        return iter(self.items)\n",
        "    def push(self, item:Union[User,dict]):\n",
        "        \"\"\"\n",
        "        Ingresa un item a la pila.\n",
        "        \"\"\"\n",
        "        self.items = np.append(self.items,item)\n",
        "    def pop(self)->Union[User,dict]:\n",
        "        \"\"\"\n",
        "        Retorna el ultimo item ingresado a la pila.\n",
        "        \"\"\"\n",
        "        if not self.is_empty():\n",
        "            elemento = self.items[-1]\n",
        "            self.items = self.items[:-1]\n",
        "            return elemento\n",
        "\n",
        "    def is_empty(self)->bool:\n",
        "        \"\"\"\n",
        "        Retorna True si la pila esta vacia, False si no.\n",
        "        \"\"\"\n",
        "        return len(self.items) == 0\n",
        "\n",
        "    def encontrar_por_llave(self, llave:callable)->np.array:\n",
        "        \"\"\"\n",
        "        Busca en la Pila segun una llave o valor dado.\n",
        "        \"\"\"\n",
        "        resultado = filter(llave, self.items)\n",
        "        return np.array(list(resultado))\n",
        "\n",
        "    \n",
        "class PilaPrioridadNumpy:\n",
        "    \"\"\"\n",
        "    Clase que representa una pila con prioridad pero usando numpy.\n",
        "    Esta sera la encargada de la cola de\n",
        "    prioridad de responder mensajes.\n",
        "    Atributos:\n",
        "        items (np.array): Lista que representa la pila\n",
        "    \"\"\"\n",
        "    def __init__(self):\n",
        "        self.items = np.array([],dtype=dict)\n",
        "    def __iter__(self):\n",
        "        return iter(self.items)\n",
        "\n",
        "    def __next__(self):\n",
        "        if self.is_empty():\n",
        "            raise StopIteration\n",
        "        return self.pop()\n",
        "\n",
        "    def push(self, mensaje:dict):\n",
        "        \"\"\"\n",
        "         Se implementa la inserción en la pila según la prioridad del mensaje\n",
        "         El mensaje debe ser un diccionario con una clave \"prioridad\"\n",
        "        \"\"\"\n",
        "        if mensaje is None:\n",
        "            pass\n",
        "        else:\n",
        "            prioridad = mensaje.pop(\"prioridad\")  # Prioridad por defecto si no se especifica\n",
        "            if prioridad == 3:\n",
        "                self.items = np.insert(self.items,0,mensaje)\n",
        "            elif prioridad == 2:\n",
        "                i = 0\n",
        "                while i < len(self.items) and 'prioridad' in self.items[i] and self.items[i]['prioridad'] == 3:\n",
        "                    i += 1\n",
        "                self.items = np.insert(self.items,i,mensaje)\n",
        "            else:\n",
        "                self.items = np.append(self.items,mensaje)\n",
        "\n",
        "\n",
        "    def pop(self)->dict:\n",
        "        \"\"\"\n",
        "        Retorna el ultimo item ingresado a la pila.\n",
        "        \"\"\"\n",
        "        if not self.is_empty():\n",
        "            elemento = self.items[-1]\n",
        "            self.items = self.items[:-1]\n",
        "            return elemento\n",
        "\n",
        "    def is_empty(self)->bool:\n",
        "        \"\"\"\n",
        "        Retorna True si la pila esta vacia, False si no.\n",
        "        \"\"\"\n",
        "        return len(self.items) == 0"
      ]
    },
    {
      "attachments": {},
      "cell_type": "markdown",
      "metadata": {
        "id": "9r-qBg905qNx"
      },
      "source": [
        "#### Clase BaseDeDatos"
      ]
    },
    {
      "cell_type": "code",
      "execution_count": 175,
      "metadata": {
        "id": "FQWTw_5-5qiH"
      },
      "outputs": [],
      "source": [
        "\n",
        "class BaseDeDatos:\n",
        "    \"\"\"\n",
        "    Clase que representa la base de datos del CAD.\n",
        "    Esta sera la encargada de cargar los usuarios y procesar los mensajes.\n",
        "    Atributos:\n",
        "        users (Pila): Pila que representa los usuarios que envían solicitudes\n",
        "        buzon (Pila): Pila que representa el buzon de mensajes del CAD\n",
        "    \"\"\"\n",
        "    def __init__(self,users: Union[Pila,PilaNumpy],buzon:Union[Pila,PilaNumpy]):\n",
        "        self.users = users\n",
        "        self.buzon = buzon\n",
        "\n",
        "            \n",
        "    def __iter__(self):\n",
        "        return iter(self.users)\n",
        "\n",
        "    def __next__(self):\n",
        "        if self.tiene_mensajes():\n",
        "            return self.pop()\n",
        "        else:\n",
        "            raise StopIteration\n",
        "    def push(self, usuario:Union[User,dict]):\n",
        "        \"\"\"\n",
        "        Ingresa un usuario a la pila.\n",
        "        \"\"\"\n",
        "        self.users.push(usuario)\n",
        "\n",
        "    def pop(self)->Union[User,dict]: \n",
        "        \"\"\"\n",
        "        Retorna el ultimo usuario ingresado a la pila.\n",
        "        \"\"\"\n",
        "        return self.users.pop()\n",
        "    \n",
        "    def mensaje_a_buzon(self, mensaje:dict):\n",
        "        \"\"\"\n",
        "        Ingresa un mensaje al buzon de mensajes.\n",
        "        \"\"\"\n",
        "        self.buzon.push(mensaje)\n",
        "\n",
        "    def load(self, usuarios:list):\n",
        "        \"\"\"\n",
        "        Carga los usuarios desde una lista con diccionarios\n",
        "        y transforma cada dict en un Users y llena la pila\n",
        "        con estos usuarios.\n",
        "        \"\"\"\n",
        "        for usuario in usuarios:\n",
        "            nombre = usuario.get(\"nombre\", \"Sin nombre\")\n",
        "            prioridad = usuario.get(\"prioridad\", 1)\n",
        "            mensaje = usuario.get(\"mensaje\", None)\n",
        "            self.users.push(User(nombre, prioridad, mensaje))\n",
        "\n",
        "    def procesar_mensajes(self):\n",
        "        \"\"\"\n",
        "        Procesa los mensajes del buzon de mensajes y los envia a los usuarios\n",
        "        \"\"\"\n",
        "        while self.users.is_empty() == False and self.buzon.is_empty() == False:\n",
        "            mensaje = self.buzon.pop()\n",
        "            if mensaje is not None:\n",
        "                nombre = mensaje.get(\"nombre\")\n",
        "                filtro = lambda x: x.name == nombre\n",
        "                usuario = self.users.encontrar_por_llave(filtro)\n",
        "                for user in usuario:\n",
        "                    if user.message is not None:\n",
        "                        user.recibir_mensaje(mensaje.get(\"mensaje\"))\n",
        "\n",
        "    def tiene_mensajes(self)->bool:\n",
        "        \"\"\"\n",
        "        Retorna True si la pila de usuarios tiene mensajes, False si no.\n",
        "        \"\"\"\n",
        "        for usuario in self.users:\n",
        "            if usuario.message is not None:\n",
        "                return True\n",
        "        return False"
      ]
    },
    {
      "attachments": {},
      "cell_type": "markdown",
      "metadata": {
        "id": "imW_DKGU5tdP"
      },
      "source": [
        "#### Funciones principales"
      ]
    },
    {
      "attachments": {},
      "cell_type": "markdown",
      "metadata": {
        "id": "ckzaxGZGAAzV"
      },
      "source": [
        "La función `main()` ejecuta un loop donde cada usuario envia su mensaje, el usuario especial lo revisa y responde, donde si la respuesta no es satisfactoria entonces el usuario lo vuelve a enviar.\n",
        "\n",
        "El argumento `use_numpy` indica si las pilas usadas serán las definidas con numpy o no, esta variable es entregada a las clases `BaseDeDatos` y `PilaPrioridad`, donde cada clase implementa una manera de escoger entre ambos tipos de pila."
      ]
    },
    {
      "cell_type": "code",
      "execution_count": 176,
      "metadata": {
        "id": "u7QONwk43wTn"
      },
      "outputs": [],
      "source": [
        "def main(use_numpy: bool = False) -> None:\n",
        "    # Se crea la base de datos\n",
        "    if use_numpy == True:\n",
        "        base = BaseDeDatos(PilaNumpy(), PilaNumpy())\n",
        "    else:\n",
        "        base = BaseDeDatos(Pila(), Pila())\n",
        "    base.load(dicts_of_users[:59])\n",
        "\n",
        "    # Se crea la cola con prioridad y el usuario especial\n",
        "    if use_numpy == True:\n",
        "        cola_prio = PilaPrioridadNumpy()\n",
        "    else:\n",
        "        cola_prio = PilaPrioridad()\n",
        "    special_user = SpecialUSer(\"Admin\")\n",
        "\n",
        "    # Mientras hayan usuarios con mensajes a enviar\n",
        "    while base.tiene_mensajes():\n",
        "\n",
        "        # Por cada mensaje en la base de datos se agrega\n",
        "        # a la cola con prioridad\n",
        "        for user_with_msg in base:\n",
        "            cola_prio.push(user_with_msg.crear_mensaje())\n",
        "\n",
        "        # Por cada mensaje en la cola con prioridad\n",
        "        # se le entrega al usuario especial para que responda\n",
        "        for msg in cola_prio:\n",
        "            respuesta = special_user.responder_mensaje(msg)\n",
        "            base.mensaje_a_buzon(respuesta)\n",
        "\n",
        "        # La base de datos llama a cada usuario para que procese\n",
        "        # la respuesta que le dieron\n",
        "        base.procesar_mensajes()\n",
        "\n",
        "    return"
      ]
    },
    {
      "attachments": {},
      "cell_type": "markdown",
      "metadata": {
        "id": "qI_dzVFkAAzW"
      },
      "source": [
        "**Comparación de eficiencia**\n",
        "\n",
        "Utilizando la librería `timeit` de Python, compare el tiempo que toma ejecutar las funciones `main(use_numpy=True)` y `main(use_numpy=False)`. Para esto, ejecute ambas llamadas mínimo **500 veces**. Luego, analice los resultados y comente sobre la diferencia de tiempos de ambas implementaciones, razones de por qué se obtuvo esa diferencia de tiempo, y ventajas y desventajas de ambas implementaciones.\n",
        "\n",
        "Para realizar las múltiples ejecuciones utilice el método `repeat` que devolverá una lista con los tiempos que le tomó ejecutarse, haga un gráfico de violín de los datos (ambos resultados en una misma figura) y apoyese de este en su análisis. Puede utilizar la librería `matplotlib` o `seaborn` según prefiera.\n",
        "\n",
        "Agregue etiquetas a los ejes y un título pertinente a su gráfico."
      ]
    },
    {
      "cell_type": "code",
      "execution_count": 177,
      "metadata": {
        "colab": {
          "base_uri": "https://localhost:8080/"
        },
        "id": "Shm1kkEzAAzW",
        "outputId": "41f4af35-52d5-4a72-8bd2-cfca3469bd01"
      },
      "outputs": [
        {
          "name": "stdout",
          "output_type": "stream",
          "text": [
            "Tiempo medio de ejecución con numpy: 0.08506771040000967 segundos\n",
            "Tiempo medio de ejecución sin numpy: 0.06569369620000179 segundos\n"
          ]
        }
      ],
      "source": [
        "import timeit\n",
        "import matplotlib.pyplot as plt\n",
        "import seaborn as sns\n",
        "repeticiones = 500\n",
        "\n",
        "\n",
        "tiempos_con_numpy = timeit.repeat(lambda: main(use_numpy=True), repeat=repeticiones, number=1)\n",
        "tiempos_sin_numpy = timeit.repeat(lambda: main(use_numpy=False), repeat=repeticiones, number=1)\n",
        "\n",
        "# Crear una lista con los resultados\n",
        "resultados = []\n",
        "resultados.extend([(\"NumPy\", tiempo) for tiempo in tiempos_con_numpy])\n",
        "resultados.extend([(\"Sin NumPy\", tiempo) for tiempo in tiempos_sin_numpy])\n",
        "print(f\"Tiempo medio de ejecución con numpy: {np.mean(tiempos_con_numpy)} segundos\")\n",
        "print(f\"Tiempo medio de ejecución sin numpy: {np.mean(tiempos_sin_numpy)} segundos\")\n"
      ]
    },
    {
      "cell_type": "code",
      "execution_count": 178,
      "metadata": {
        "id": "_YWA87mNAAzW"
      },
      "outputs": [
        {
          "name": "stderr",
          "output_type": "stream",
          "text": [
            "j:\\Pytorch\\.venv\\lib\\site-packages\\seaborn\\_oldcore.py:1498: FutureWarning: is_categorical_dtype is deprecated and will be removed in a future version. Use isinstance(dtype, CategoricalDtype) instead\n",
            "  if pd.api.types.is_categorical_dtype(vector):\n",
            "j:\\Pytorch\\.venv\\lib\\site-packages\\seaborn\\_oldcore.py:1498: FutureWarning: is_categorical_dtype is deprecated and will be removed in a future version. Use isinstance(dtype, CategoricalDtype) instead\n",
            "  if pd.api.types.is_categorical_dtype(vector):\n",
            "j:\\Pytorch\\.venv\\lib\\site-packages\\seaborn\\_oldcore.py:1765: FutureWarning: unique with argument that is not not a Series, Index, ExtensionArray, or np.ndarray is deprecated and will raise in a future version.\n",
            "  order = pd.unique(vector)\n",
            "j:\\Pytorch\\.venv\\lib\\site-packages\\seaborn\\_oldcore.py:1498: FutureWarning: is_categorical_dtype is deprecated and will be removed in a future version. Use isinstance(dtype, CategoricalDtype) instead\n",
            "  if pd.api.types.is_categorical_dtype(vector):\n"
          ]
        },
        {
          "data": {
            "image/png": "[encoded data removed]",
            "text/plain": [
              "<Figure size 1000x600 with 1 Axes>"
            ]
          },
          "metadata": {},
          "output_type": "display_data"
        }
      ],
      "source": [
        "# Creación de los gráficos\n",
        "plt.figure(figsize=(10, 6))\n",
        "sns.violinplot(x=[x[0] for x in resultados], y=[x[1] for x in resultados])\n",
        "plt.xlabel(\"Implementación\")\n",
        "plt.ylabel(\"Tiempo de ejecución (segundos)\")\n",
        "plt.title(\"Comparación de eficiencia: Implementación con y sin NumPy\")\n",
        "plt.show()"
      ]
    },
    {
      "attachments": {},
      "cell_type": "markdown",
      "metadata": {
        "id": "7tpglAxdAAzW"
      },
      "source": [
        "**Comentarios:**\n",
        "Como se puede apreciar en el grafico anterior la implementacion con sin Numpy en promedio un mejor desempeño que con numpy. Esto se puede deber a distintos factores, entre los que destacan\n",
        "la implementacion base de las Pilas. En el caso de la implementacion con numpy, se utilizo un arreglo de numpy para almacenar los datos, lo cual no es la mejor implementacion, ya que numpy esta pensado para trabajar con matrices y no con arreglos unidimensionales. Por otro lado, en la implementacion sin numpy se utilizo una lista, la cual es una estructura de datos mas eficiente para almacenar datos de manera secuencial. "
      ]
    }
  ],
  "metadata": {
    "colab": {
      "collapsed_sections": [
        "uvYMMiMj0xDS"
      ],
      "provenance": []
    },
    "kernelspec": {
      "display_name": "Python 3",
      "name": "python3"
    },
    "language_info": {
      "codemirror_mode": {
        "name": "ipython",
        "version": 3
      },
      "file_extension": ".py",
      "mimetype": "text/x-python",
      "name": "python",
      "nbconvert_exporter": "python",
      "pygments_lexer": "ipython3",
      "version": "3.9.5"
    }
  },
  "nbformat": 4,
  "nbformat_minor": 0
}
