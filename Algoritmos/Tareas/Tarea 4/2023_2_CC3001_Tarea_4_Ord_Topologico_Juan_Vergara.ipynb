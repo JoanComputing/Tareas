{
  "cells": [
    {
      "cell_type": "markdown",
      "metadata": {
        "id": "TuBrFz2U_Hth"
      },
      "source": [
        "# CC3001 Otoño 2021 Tarea 4 - Juan Vergara\n",
        "\n",
        "### Profesores\n",
        "Sección 1 Nelson Baloian/Patricio Poblete •\n",
        "Sección 2 Benjamín Bustos •\n",
        "Sección 3 Sebastián Ferrada\n"
      ]
    },
    {
      "cell_type": "markdown",
      "metadata": {
        "id": "vJsSzP2uyk39"
      },
      "source": [
        "# Ordenamiento Topológico\n",
        "\n",
        "El problema de *ordenamiento topológico* consiste en encontrar un orden total que sea compatible con un orden parcial dado.\n",
        "\n",
        "Para formular el problema de manera más concreta, lo describiremos en términos de cursos y sus requisitos.\n",
        "\n",
        "Consideremos un conjunto de cursos, para cada uno de los cuales se tiene la lista de sus requisitos. Para simplificar, supondremos que no existen requisitos simultáneos ni de tipo \"o\", sólo de tipo \"y\".\n",
        "\n",
        "Como ejemplo, tomemos un conjunto de cursos numerados $0,1,\\ldots$ para cada uno de los cuales se indica su lista de requisitos:\n",
        "\n",
        "<pre>\n",
        "0:\n",
        "1: 0\n",
        "2: 1 4\n",
        "3:\n",
        "4: 3\n",
        "5:\n",
        "6: 0 3 5\n",
        "7: 1 4 6\n",
        "8:\n",
        "9: 8\n",
        "10: 3 9\n",
        "</pre>\n",
        "\n",
        "Observe en particular que los cursos 0, 3, 5 y 8 no tienen requisitos.\n",
        "\n",
        "Esto se puede visualizar en la siguiente malla:\n",
        "\n",
        "![malla](https://dcc.uchile.cl/ppoblete/cc3001/2023-2/malla.png)\n",
        "\n",
        "Lo que se pide es generar un orden en que se podría ir aprobando los cursos, de tal manera que al tomar cada curso, sus requisitos ya se encuentren cumplidos. Por ejemplo, un orden factible (entre muchos otros) podría ser:\n",
        "\n",
        "<pre>\n",
        "3 0 4 1 8 2 5 9 6 10 7\n",
        "</pre>\n",
        "\n",
        "Usted puede suponer que la malla no contiene ciclos, por lo cual el problema siempre tiene solución.\n",
        "\n",
        "Para lograr lo pedido, se propone usar el siguiente algoritmo:\n",
        "\n",
        "* Comenzar con una lista vacía\n",
        "* Encontrar un curso con cero flechas entrantes (esto es, un curso sin requisitos) y agregar su número al final de la lista. Borrar ese curso de la malla, junto con todas sus flechas salientes.\n",
        "* Repetir el punto anterior hasta que todos los cursos hayan sido agregados a la lista y no quede ningún curso en la malla.\n",
        "\n",
        "\n",
        "\n",
        "\n"
      ]
    },
    {
      "cell_type": "markdown",
      "metadata": {
        "id": "8kY2A2e9yt7V"
      },
      "source": [
        "# Implementación eficiente del algoritmo\n",
        "\n",
        "Para implementar este algoritmo, definiremos una clase ``Malla`` con los siguientes métodos:\n",
        "\n",
        "* un constructor que recibe un parámetro ``n`` (el número de cursos) y una lista (de Python) ``L`` que contiene una lista de pares ``[i,j]``, que corresponden a todas las flechas desde un curso ``i`` a un curso ``j`` en la malla. Con esta información, el constructor debe crear una representación interna de la malla, como se describe más adelante.\n",
        "\n",
        "* ``m.extrae_curso()`` que encuentra un curso que no tenga requisitos en la malla (cero flechas entrantes), elimina ese curso de la malla (incluyendo eliminar todas las flechas salientes de él) y retorna el número del curso encontrado\n",
        "\n",
        "* ``m.esta_vacia()`` que retorna ``True`` cuando la malla está vacía\n",
        "\n",
        "Utilizando esta clase, es muy directo escribir un programa que implemente el algoritmo, utilizando el primer método para construir la malla y los dos restantes para generar el ordenamiento topológico.\n",
        "\n",
        "Por supuesto, la eficiencia de la implementación dependerá de cómo funcione internamente la clase. Para esto, se deberán manejar las estructuras que se describen a continuación.\n",
        "\n",
        "## Arreglo de flechas hacia adelante (``post``)\n",
        "\n",
        "La lista de cursos con sus requisitos (a veces llamados \"pre-requisitos\") indicada anteriormente se puede interpretar como una lista de todos los cursos que apuntan en la malla hacia un curso dado. Acá utilizaremos lo opuesto: una lista de los \"post-requisitos\" de un curso dado, esto es, de los cursos que se pueden tomar una vez que uno ha aprobado dicho curso.\n",
        "\n",
        "Este será un arreglo ``post``en donde ``post[i]`` será un puntero a una lista enlazada de todos los cursos hacia los cuales apunta con una flecha el curso ``i`` en la malla.\n",
        "\n",
        "Ejemplo:\n",
        "\n",
        "![post](https://dcc.uchile.cl/ppoblete/cc3001/2023-2/post.png)\n",
        "\n",
        "## Arreglo del número de flechas entrantes para cada curso (``num_pre``)\n",
        "\n",
        "Este será un arreglo en donde el casillero ``num_pre[j]`` almacena el número de flechas entrantes al curso ``j`` en la malla (esto es, el número de pre-requisitos de ese curso).\n",
        "\n",
        "Ejemplo:\n",
        "\n",
        "![numpre](https://dcc.uchile.cl/ppoblete/cc3001/2023-2/numpre.png)\n",
        "\n",
        "## Lista de los cursos con cero flechas entrantes (``lista_cero``)\n",
        "\n",
        "Esta es una lista enlazada de todos los cursos que tienen cero flechas entrantes y que todavía no han sido eliminados de la malla.\n",
        "\n",
        "Ejemplo:\n",
        "\n",
        "![listacero](https://dcc.uchile.cl/ppoblete/cc3001/2023-2/listacero.png)\n",
        "\n",
        "## Implementación de los métodos\n",
        "\n",
        "El constructor debe inicialmente generar una tabla ``post`` de tamaño ``n`` con todas sus listas vacías, y una tabla ``num_pre`` en que los casilleros de todos los cursos (del 0 al ``n-1``) tienen valor cero (porque no tienen todavía flechas entrantes).\n",
        "\n",
        "A continuación el constructor debe procesar la lista ``L``, agregando el nodo ``j`` a la lista ``post[i]`` y sumándole 1 al contador ``num_pre[j]``.\n",
        "\n",
        "Una vez concluido este proceso, debe recorrer la tabla ``num_pre`` para formar la lista ``lista_cero`` de todos los cursos que tienen cero flechas entrantes.\n",
        "\n",
        "El método ``extrae_curso()`` debe extraer un curso de la lista ``lista_cero`` y luego recorrer la lista ``post`` de ese curso, restándole 1 al contador de flechas entrantes de cada curso que esté en esa lista. Si con eso el curso queda con cero flechas entrantes, debe agregarse a la lista ``lista_cero``.\n",
        "\n",
        "Escriba a continuación la definición de la clase ``Malla``, modificando el código que se le entrega:\n"
      ]
    },
    {
      "cell_type": "code",
      "execution_count": 36,
      "metadata": {
        "id": "pLizWrQEKQrj"
      },
      "outputs": [],
      "source": [
        "import numpy as np\n",
        "\n",
        "class Nodo:\n",
        "  def __init__(self, info, sgte=None):\n",
        "    self.info=info\n",
        "    self.sgte=sgte\n",
        "\n",
        "class Malla:\n",
        "  def __init__(self,n,L):\n",
        "    self.post=[None]*n  # Iniciamos lista post con n elementos None\n",
        "    self.num_pre=np.zeros(n,dtype=int) # Iniciamos lista num_pre con n ceros, pues todavia no tiene flechas entrantes\n",
        "    for i in range(n):\n",
        "      self.post[i]=Nodo(i) # Inicializamos cada elemento de post con un nodo que apunta a si mismo\n",
        "    for flecha in L:\n",
        "      (i,j) = (flecha[0], flecha[1]) \n",
        "      self.post[i].sgte = Nodo(j, self.post[i].sgte) # Agregamos una flecha de i a j\n",
        "      self.num_pre[j] += 1 # Aumentamos en 1 el numero de flechas entrantes de j\n",
        "\n",
        "    self.lista_cero = Nodo(None)\n",
        "    ultimo = self.lista_cero\n",
        "    for i in range(n):\n",
        "      if self.num_pre[i] == 0:\n",
        "        ultimo.sgte = Nodo(i) # Agregamos el curso i a la lista de cursos sin pre-requisitos\n",
        "        ultimo = ultimo.sgte # Actualizamos el ultimo nodo de la lista\n",
        "\n",
        "  def extrae_curso(self):\n",
        "    curso = self.lista_cero.sgte.info # Extraemos el primer curso de la lista de cursos sin pre-requisitos\n",
        "    self.lista_cero.sgte = self.lista_cero.sgte.sgte # Eliminamos el primer curso de la lista de cursos sin pre-requisitos\n",
        "    nodo = self.post[curso].sgte # Extraemos el primer nodo de la lista de cursos que tienen como pre-requisito el curso extraido\n",
        "    while nodo is not None:\n",
        "      self.num_pre[nodo.info] -= 1 # Disminuimos en 1 el numero de pre-requisitos del curso nodo.info\n",
        "      if self.num_pre[nodo.info] == 0:\n",
        "        self.lista_cero.sgte = Nodo(nodo.info, self.lista_cero.sgte) # Agregamos el curso nodo.info a la lista de cursos sin pre-requisitos\n",
        "      nodo = nodo.sgte\n",
        "\n",
        "    return curso\n",
        "\n",
        "  def esta_vacia(self):\n",
        "    return self.lista_cero.sgte is None"
      ]
    },
    {
      "cell_type": "markdown",
      "metadata": {
        "id": "-_xXYgvs_Htw"
      },
      "source": [
        "---\n",
        "# Juntando todo lo anterior:\n",
        "\n",
        "Usted debe escribir una función ``ordena_topologico(n,L)`` donde ``n`` es el número de cursos y ``L`` es una lista (de Python) que contien todos los pares ``[i,j]`` para ser entregados al constructor de la malla.\n",
        "La función debe retornar una lista (de Python) con la secuencia pedida de cursos en un orden que sea compatible con los requisitos de la malla."
      ]
    },
    {
      "cell_type": "code",
      "execution_count": 37,
      "metadata": {
        "id": "dxas51mxo2qv"
      },
      "outputs": [],
      "source": [
        "def ordena_topologico(n,L):\n",
        "  malla = Malla(n, L)\n",
        "  orden = []\n",
        "  while not malla.esta_vacia():\n",
        "    curso = malla.extrae_curso()\n",
        "    orden.append(curso)\n",
        "  return orden"
      ]
    },
    {
      "cell_type": "markdown",
      "metadata": {
        "id": "s5-QiUcIpTWO"
      },
      "source": [
        "# Probando el programa\n",
        "\n",
        "En primer lugar vamos a definir una función para chequear que una solución es correcta:"
      ]
    },
    {
      "cell_type": "code",
      "execution_count": 38,
      "metadata": {
        "id": "gt0dss4Grs0F"
      },
      "outputs": [],
      "source": [
        "def check(n,L,orden):\n",
        "  if len(orden)!=n:\n",
        "    print(\"ERROR\")\n",
        "    return\n",
        "  pos=np.full(n,-1)\n",
        "  for k in range(n):\n",
        "    if pos[orden[k]]!=-1: # número repetido en la solución\n",
        "      print(\"ERROR\")\n",
        "      return\n",
        "    pos[orden[k]]=k\n",
        "  for flecha in L:\n",
        "    (i,j)=(flecha[0],flecha[1])\n",
        "    if pos[i]>pos[j]:\n",
        "      print(\"ERROR\")\n",
        "      return\n",
        "  print(\"OK\")\n"
      ]
    },
    {
      "cell_type": "markdown",
      "metadata": {
        "id": "sPVexn3drgN1"
      },
      "source": [
        "A continuación debe ejecutar los siguientes trozos de código para probar su programa:"
      ]
    },
    {
      "cell_type": "code",
      "execution_count": 39,
      "metadata": {
        "id": "GPgVeEnytkOZ"
      },
      "outputs": [
        {
          "name": "stdout",
          "output_type": "stream",
          "text": [
            "Primero probamos con una solución errónea, debe decir ERROR:\n",
            "[1, 3, 2, 4, 0]\n",
            "ERROR\n",
            "Ahora probamos con su solución, debe decir OK:\n",
            "[3, 4, 1, 2, 0]\n",
            "OK\n"
          ]
        }
      ],
      "source": [
        "# Probamos primero con una malla pequeña\n",
        "\n",
        "n=5\n",
        "L=[[3,1],[4,1],[3,2],[4,2],[1,0],[2,0]]\n",
        "\n",
        "print(\"Primero probamos con una solución errónea, debe decir ERROR:\")\n",
        "orden=[1,3,2,4,0]\n",
        "print(orden)\n",
        "check(n,L,orden)\n",
        "\n",
        "print(\"Ahora probamos con su solución, debe decir OK:\")\n",
        "orden=ordena_topologico(n,L)\n",
        "print(orden)\n",
        "check(n,L,orden)"
      ]
    },
    {
      "cell_type": "code",
      "execution_count": 40,
      "metadata": {
        "id": "UYhAauwKpiEw"
      },
      "outputs": [
        {
          "name": "stdout",
          "output_type": "stream",
          "text": [
            "Finalmente probamos su programa con el ejemplo del enunciado, debe decir OK\n",
            "[0, 1, 3, 4, 2, 5, 6, 7, 8, 9, 10]\n",
            "OK\n"
          ]
        }
      ],
      "source": [
        "print(\"Finalmente probamos su programa con el ejemplo del enunciado, debe decir OK\")\n",
        "n=11\n",
        "L=[[0,1],[0,6],\n",
        "   [1,2],[1,7],\n",
        "   [3,4],[3,6],[3,10],\n",
        "   [4,2],[4,7],\n",
        "   [5,6],[6,7],\n",
        "   [8,9],\n",
        "   [9,10]]\n",
        "orden=ordena_topologico(n,L)\n",
        "print(orden)\n",
        "check(n,L,orden)"
      ]
    },
    {
      "cell_type": "markdown",
      "metadata": {
        "id": "v_UwExwo_HuW"
      },
      "source": [
        "## ¿Qué hay que entregar?\n",
        "\n",
        "Usted debe entregar este mismo archivo, modificado de acuerdo a lo que se pide. Documentar adecuadamente su código. Cite todas las fuentes de información utilizadas. **No olvide poner su nombre en el encabezamiento**."
      ]
    }
  ],
  "metadata": {
    "colab": {
      "provenance": []
    },
    "kernelspec": {
      "display_name": "Python 3",
      "name": "python3"
    },
    "language_info": {
      "codemirror_mode": {
        "name": "ipython",
        "version": 3
      },
      "file_extension": ".py",
      "mimetype": "text/x-python",
      "name": "python",
      "nbconvert_exporter": "python",
      "pygments_lexer": "ipython3",
      "version": "3.9.5"
    }
  },
  "nbformat": 4,
  "nbformat_minor": 0
}
